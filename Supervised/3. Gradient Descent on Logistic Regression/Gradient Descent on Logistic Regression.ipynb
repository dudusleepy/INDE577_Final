{
 "cells": [
  {
   "cell_type": "markdown",
   "id": "b08cfa8d",
   "metadata": {},
   "source": [
    "# Gradient Descent on Logistic Regression"
   ]
  },
  {
   "cell_type": "markdown",
   "id": "16b6ed26",
   "metadata": {},
   "source": [
    "## Introduction"
   ]
  },
  {
   "cell_type": "markdown",
   "id": "480ce016",
   "metadata": {},
   "source": [
    "Logistic Regression is a predictive analysis algorithm used primarily for binary classification problems. It predicts the probability of the target variable (often categorical) belonging to a certain class using a logistic function.\n",
    "\n",
    "Gradient Descent is an optimization algorithm used to minimize some function by iteratively moving towards the minimum value of the function. In the context of Logistic Regression, Gradient Descent is used to find the coefficients that minimize the cost function, typically a log-loss function in binary classification.\n",
    "\n",
    "### The Logistic Function\n",
    "The logistic function, also called the sigmoid function, outputs a value between 0 and 1, which represents the probability that the dependent variable belongs to a particular class. The logistic function is defined as:\n",
    "\n",
    "\\[ \\sigma(z) = \\frac{1}{1 + e^{-z}} \\]\n",
    "\n",
    "where \\( z \\) is the input to the function, a linear combination of the input features (\\( x \\)) weighted by the model coefficients (\\( \\theta \\)), i.e., \\( z = \\theta^T x \\).\n",
    "\n",
    "### Cost Function\n",
    "The cost function in Logistic Regression, also known as the log-loss or cross-entropy loss, is given by:\n",
    "\n",
    "\\[ J(\\theta) = -\\frac{1}{m} \\sum_{i=1}^{m} [y^{(i)} \\log(\\sigma(\\theta^T x^{(i)})) + (1 - y^{(i)}) \\log(1 - \\sigma(\\theta^T x^{(i)}))] \\]\n",
    "\n",
    "where \\( m \\) is the number of training examples, \\( y^{(i)} \\) is the actual label of the \\( i \\)-th training example, and \\( \\sigma(\\theta^T x^{(i)}) \\) is the predicted probability.\n",
    "\n",
    "### Gradient Descent\n",
    "To minimize the cost function \\( J(\\theta) \\), the Gradient Descent algorithm updates the coefficients \\( \\theta \\) iteratively using the gradient of \\( J(\\theta) \\) with respect to \\( \\theta \\):\n",
    "\n",
    "\\[ \\theta := \\theta - \\alpha \\cdot \\nabla J(\\theta) \\]\n",
    "\n",
    "where \\( \\alpha \\) is the learning rate, a parameter that determines the step size at each iteration.\n"
   ]
  },
  {
   "cell_type": "markdown",
   "id": "5229863d",
   "metadata": {},
   "source": [
    "## Data process"
   ]
  },
  {
   "cell_type": "code",
   "execution_count": null,
   "id": "a0f3b823",
   "metadata": {},
   "outputs": [],
   "source": [
    "import pandas as pd\n",
    "\n",
    "# Load the data from the uploaded CSV file to examine its contents\n",
    "housing_data = pd.read_csv('/Users/kevinwang/Downloads/Housing.csv')\n",
    "housing_data.head()"
   ]
  },
  {
   "cell_type": "code",
   "execution_count": 11,
   "id": "4f4d2aaa",
   "metadata": {},
   "outputs": [
    {
     "name": "stdout",
     "output_type": "stream",
     "text": [
      "Accuracy: 0.7614678899082569\n",
      "Confusion Matrix: [[61 10]\n",
      " [16 22]]\n",
      "report:               precision    recall  f1-score   support\n",
      "\n",
      "           0       0.79      0.86      0.82        71\n",
      "           1       0.69      0.58      0.63        38\n",
      "\n",
      "    accuracy                           0.76       109\n",
      "   macro avg       0.74      0.72      0.73       109\n",
      "weighted avg       0.76      0.76      0.76       109\n",
      "\n"
     ]
    }
   ],
   "source": [
    "from sklearn.model_selection import train_test_split\n",
    "from sklearn.preprocessing import StandardScaler, LabelEncoder\n",
    "from sklearn.linear_model import LogisticRegression\n",
    "from sklearn.metrics import accuracy_score, confusion_matrix, classification_report\n",
    "\n",
    "# Encode categorical variables\n",
    "le = LabelEncoder()# Correcting the typo and encoding categorical variables\n",
    "for col in ['mainroad', 'guestroom', 'basement', 'hotwaterheating', 'airconditioning', 'prefarea', 'furnishingstatus']:\n",
    "    housing_data[col] = le.fit_transform(housing_data[col])\n",
    "\n",
    "# Feature and target selection\n",
    "X = housing_data.drop(['airconditioning'], axis=1)\n",
    "y = housing_data['airconditioning']\n",
    "\n",
    "# Standardize the numerical features\n",
    "scaler = StandardScaler()\n",
    "X_scaled = scaler.fit_transform(X)\n",
    "\n",
    "# Split the dataset into training and testing sets\n",
    "X_train, X_test, y_train, y_test = train_test_split(X_scaled, y, test_size=0.2, random_state=42)\n",
    "\n",
    "# Create and train the Logistic Regression model using Gradient Descent\n",
    "model = LogisticRegression(solver='sag', max_iter=1000)  # 'sag' solver is used for Stochastic Average Gradient descent\n",
    "model.fit(X_train, y_train)\n",
    "\n",
    "# Predict on the test set\n",
    "y_pred = model.predict(X_test)\n",
    "\n",
    "# Calculate accuracy and generate a confusion matrix\n",
    "accuracy = accuracy_score(y_test, y_pred)\n",
    "conf_matrix = confusion_matrix(y_test, y_pred)\n",
    "report = classification_report(y_test, y_pred)\n",
    "\n",
    "print(f\"Accuracy: {accuracy}\")\n",
    "print(f\"Confusion Matrix: {conf_matrix}\")\n",
    "print(f\"report: {report}\")"
   ]
  },
  {
   "cell_type": "markdown",
   "id": "3657f66b",
   "metadata": {},
   "source": [
    "The Logistic Regression model using Gradient Descent performed as follows on the test dataset:\n",
    "\n",
    "Accuracy: 76.15%\n",
    "\n",
    "Confusion Matrix:\n",
    "\n",
    "True Negatives (correctly predicted no air conditioning): 61\n",
    "\n",
    "False Positives (incorrectly predicted air conditioning): 10\n",
    "\n",
    "False Negatives (incorrectly predicted no air conditioning): 16\n",
    "\n",
    "True Positives (correctly predicted air conditioning): 22\n",
    "\n",
    "Classification Report:\n",
    "\n",
    "Precision for no air conditioning: 79%\n",
    "\n",
    "Precision for having air conditioning: 69%\n",
    "\n",
    "Recall for no air conditioning: 86%\n",
    "\n",
    "Recall for having air conditioning: 58%\n",
    "\n",
    "F1-score for no air conditioning is higher at 82%, compared to 63% for having air conditioning, reflecting better performance in predicting houses without air conditioning.\n",
    "\n",
    "This model shows a reasonable performance but could potentially be improved with more sophisticated feature engineering, using more complex models, or addressing class imbalance if it exists."
   ]
  },
  {
   "cell_type": "markdown",
   "id": "c0698c98",
   "metadata": {},
   "source": [
    "## Visualization"
   ]
  },
  {
   "cell_type": "code",
   "execution_count": 12,
   "id": "6ba7ce12",
   "metadata": {},
   "outputs": [
    {
     "data": {
      "image/png": "[encoded data removed]",
      "text/plain": [
       "<Figure size 720x432 with 1 Axes>"
      ]
     },
     "metadata": {
      "needs_background": "light"
     },
     "output_type": "display_data"
    },
    {
     "data": {
      "image/png": "[encoded data removed]",
      "text/plain": [
       "<Figure size 432x288 with 1 Axes>"
      ]
     },
     "metadata": {
      "needs_background": "light"
     },
     "output_type": "display_data"
    }
   ],
   "source": [
    "import matplotlib.pyplot as plt\n",
    "from sklearn.metrics import roc_curve, auc\n",
    "\n",
    "# Calculate coefficients and their impact\n",
    "feature_importance = pd.DataFrame({'Feature': X.columns, 'Coefficient': model.coef_[0]})\n",
    "feature_importance['abs_coef'] = feature_importance['Coefficient'].abs()\n",
    "feature_importance = feature_importance.sort_values(by='abs_coef', ascending=False)\n",
    "\n",
    "# Plotting feature importance\n",
    "plt.figure(figsize=(10, 6))\n",
    "plt.barh(feature_importance['Feature'], feature_importance['Coefficient'], color='skyblue')\n",
    "plt.xlabel('Coefficient Value')\n",
    "plt.title('Feature Importances in Predicting Air Conditioning')\n",
    "plt.gca().invert_yaxis()\n",
    "plt.show()\n",
    "\n",
    "# ROC Curve\n",
    "fpr, tpr, thresholds = roc_curve(y_test, model.predict_proba(X_test)[:,1])\n",
    "roc_auc = auc(fpr, tpr)\n",
    "\n",
    "plt.figure()\n",
    "plt.plot(fpr, tpr, color='darkorange', lw=2, label='ROC curve (area = %0.2f)' % roc_auc)\n",
    "plt.plot([0, 1], [0, 1], color='navy', lw=2, linestyle='--')\n",
    "plt.xlim([0.0, 1.0])\n",
    "plt.ylim([0.0, 1.05])\n",
    "plt.xlabel('False Positive Rate')\n",
    "plt.ylabel('True Positive Rate')\n",
    "plt.title('Receiver Operating Characteristic')\n",
    "plt.legend(loc=\"lower right\")\n",
    "plt.show()\n"
   ]
  },
  {
   "cell_type": "markdown",
   "id": "2717b141",
   "metadata": {},
   "source": [
    "Feature Importances: The bar chart shows the impact of each feature on the prediction of whether a house has air conditioning. The length and direction of each bar indicate the size and direction of each feature's effect. Features with larger absolute values of coefficients are more influential in the model.\n",
    "\n",
    "ROC Curve: The Receiver Operating Characteristic (ROC) curve shows the trade-off between the true positive rate (sensitivity) and false positive rate (1 - specificity) at various threshold settings. The area under the curve (AUC) is 0.80, indicating a good discriminatory ability of the model to distinguish between the houses with and without air conditioning."
   ]
  },
  {
   "cell_type": "markdown",
   "id": "5d1c1967",
   "metadata": {},
   "source": [
    "## Conclusion"
   ]
  },
  {
   "cell_type": "markdown",
   "id": "c5acb43a",
   "metadata": {},
   "source": [
    "The accuracy of approximately 76% indicates that the model is reasonably good at predicting air conditioning presence based on the given features. However, there is room for improvement, especially in reducing the false negatives and false positives.\n",
    "\n",
    "While we haven't directly looked at the coefficients of the model to determine feature importance, typically, features like the price, area, and perhaps the number of stories and location-related features (like mainroad and prefarea) could be influential. Analyzing coefficients could provide more insights into which features are most predictive.\n",
    "\n",
    "The recall for predicting houses with air conditioning is lower (58%) compared to the recall for those without (86%), suggesting the model is more conservative in predicting the presence of air conditioning. This could be due to a class imbalance or other factors that could be mitigated with different strategies like adjusting class weights."
   ]
  }
 ],
 "metadata": {
  "kernelspec": {
   "display_name": "Python 3",
   "language": "python",
   "name": "python3"
  },
  "language_info": {
   "codemirror_mode": {
    "name": "ipython",
    "version": 3
   },
   "file_extension": ".py",
   "mimetype": "text/x-python",
   "name": "python",
   "nbconvert_exporter": "python",
   "pygments_lexer": "ipython3",
   "version": "3.8.8"
  }
 },
 "nbformat": 4,
 "nbformat_minor": 5
}
