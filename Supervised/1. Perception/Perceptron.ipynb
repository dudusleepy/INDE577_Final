{
 "cells": [
  {
   "cell_type": "markdown",
   "id": "ee4baf6b",
   "metadata": {},
   "source": [
    "# Perceptron Model Implementation on Iris Dataset"
   ]
  },
  {
   "cell_type": "markdown",
   "id": "0ceef433",
   "metadata": {},
   "source": [
    "## Introduction to Perceptron\n",
    "\n",
    "The Perceptron is a fundamental type of artificial neural network and one of the simplest forms of a linear classifier. Introduced in 1958 by Frank Rosenblatt, it represents the dawn of machine learning. The Perceptron algorithm is designed to classify data into two categories by finding a linear boundary separating these classes.\n",
    "\n",
    "### How It Works\n",
    "The Perceptron operates by taking multiple input signals (features of a dataset), each weighted by a coefficient that signifies the importance or strength of the feature. These weighted inputs are then summed together, and if the total sum surpasses a certain threshold, the Perceptron outputs a signal (e.g., classifies an input as 1); otherwise, it outputs a different signal (e.g., classifies the input as 0).\n",
    "\n",
    "The weights are adjusted through a learning process where the Perceptron repeatedly processes a set of training data. For each training example, it predicts an output. If the prediction is incorrect, the weights are updated to reduce the error. The updates continue iteratively until the model achieves satisfactory accuracy, or a set number of iterations is reached.\n",
    "\n",
    "### Applications\n",
    "Originally designed for binary classification tasks, such as determining whether an email is spam or not, the Perceptron has found a wide range of applications in fields that require basic decision-making by computers. It forms the foundational building block for more complex neural networks that can handle multiclass classification and regression tasks.\n",
    "\n",
    "Despite its simplicity, the Perceptron laid the groundwork for the development of more advanced neural networks and deep learning, making it an essential part of the history and ongoing evolution of artificial intelligence.\n",
    "\n",
    "\n"
   ]
  },
  {
   "cell_type": "markdown",
   "id": "d4fcc53d",
   "metadata": {},
   "source": [
    "## Data Loading and Preprocessing"
   ]
  },
  {
   "cell_type": "code",
   "execution_count": 7,
   "id": "d6297243",
   "metadata": {},
   "outputs": [],
   "source": [
    "\n",
    "import pandas as pd\n",
    "from sklearn.model_selection import train_test_split\n",
    "from sklearn.preprocessing import LabelEncoder\n",
    "\n",
    "# Load the Iris dataset\n",
    "iris_data_path = '/Users/kevinwang/Downloads/Iris.csv'\n",
    "iris_df = pd.read_csv(iris_data_path)\n",
    "iris_df.drop('Id', axis=1, inplace=True)\n"
   ]
  },
  {
   "cell_type": "markdown",
   "id": "acd8f4aa",
   "metadata": {},
   "source": [
    "Take a general look of the data"
   ]
  },
  {
   "cell_type": "code",
   "execution_count": 8,
   "id": "43997785",
   "metadata": {},
   "outputs": [
    {
     "data": {
      "text/html": [
       "<div>\n",
       "<style scoped>\n",
       "    .dataframe tbody tr th:only-of-type {\n",
       "        vertical-align: middle;\n",
       "    }\n",
       "\n",
       "    .dataframe tbody tr th {\n",
       "        vertical-align: top;\n",
       "    }\n",
       "\n",
       "    .dataframe thead th {\n",
       "        text-align: right;\n",
       "    }\n",
       "</style>\n",
       "<table border=\"1\" class=\"dataframe\">\n",
       "  <thead>\n",
       "    <tr style=\"text-align: right;\">\n",
       "      <th></th>\n",
       "      <th>SepalLengthCm</th>\n",
       "      <th>SepalWidthCm</th>\n",
       "      <th>PetalLengthCm</th>\n",
       "      <th>PetalWidthCm</th>\n",
       "      <th>Species</th>\n",
       "    </tr>\n",
       "  </thead>\n",
       "  <tbody>\n",
       "    <tr>\n",
       "      <th>0</th>\n",
       "      <td>5.1</td>\n",
       "      <td>3.5</td>\n",
       "      <td>1.4</td>\n",
       "      <td>0.2</td>\n",
       "      <td>Iris-setosa</td>\n",
       "    </tr>\n",
       "    <tr>\n",
       "      <th>1</th>\n",
       "      <td>4.9</td>\n",
       "      <td>3.0</td>\n",
       "      <td>1.4</td>\n",
       "      <td>0.2</td>\n",
       "      <td>Iris-setosa</td>\n",
       "    </tr>\n",
       "    <tr>\n",
       "      <th>2</th>\n",
       "      <td>4.7</td>\n",
       "      <td>3.2</td>\n",
       "      <td>1.3</td>\n",
       "      <td>0.2</td>\n",
       "      <td>Iris-setosa</td>\n",
       "    </tr>\n",
       "    <tr>\n",
       "      <th>3</th>\n",
       "      <td>4.6</td>\n",
       "      <td>3.1</td>\n",
       "      <td>1.5</td>\n",
       "      <td>0.2</td>\n",
       "      <td>Iris-setosa</td>\n",
       "    </tr>\n",
       "    <tr>\n",
       "      <th>4</th>\n",
       "      <td>5.0</td>\n",
       "      <td>3.6</td>\n",
       "      <td>1.4</td>\n",
       "      <td>0.2</td>\n",
       "      <td>Iris-setosa</td>\n",
       "    </tr>\n",
       "    <tr>\n",
       "      <th>5</th>\n",
       "      <td>5.4</td>\n",
       "      <td>3.9</td>\n",
       "      <td>1.7</td>\n",
       "      <td>0.4</td>\n",
       "      <td>Iris-setosa</td>\n",
       "    </tr>\n",
       "    <tr>\n",
       "      <th>6</th>\n",
       "      <td>4.6</td>\n",
       "      <td>3.4</td>\n",
       "      <td>1.4</td>\n",
       "      <td>0.3</td>\n",
       "      <td>Iris-setosa</td>\n",
       "    </tr>\n",
       "    <tr>\n",
       "      <th>7</th>\n",
       "      <td>5.0</td>\n",
       "      <td>3.4</td>\n",
       "      <td>1.5</td>\n",
       "      <td>0.2</td>\n",
       "      <td>Iris-setosa</td>\n",
       "    </tr>\n",
       "    <tr>\n",
       "      <th>8</th>\n",
       "      <td>4.4</td>\n",
       "      <td>2.9</td>\n",
       "      <td>1.4</td>\n",
       "      <td>0.2</td>\n",
       "      <td>Iris-setosa</td>\n",
       "    </tr>\n",
       "    <tr>\n",
       "      <th>9</th>\n",
       "      <td>4.9</td>\n",
       "      <td>3.1</td>\n",
       "      <td>1.5</td>\n",
       "      <td>0.1</td>\n",
       "      <td>Iris-setosa</td>\n",
       "    </tr>\n",
       "  </tbody>\n",
       "</table>\n",
       "</div>"
      ],
      "text/plain": [
       "   SepalLengthCm  SepalWidthCm  PetalLengthCm  PetalWidthCm      Species\n",
       "0            5.1           3.5            1.4           0.2  Iris-setosa\n",
       "1            4.9           3.0            1.4           0.2  Iris-setosa\n",
       "2            4.7           3.2            1.3           0.2  Iris-setosa\n",
       "3            4.6           3.1            1.5           0.2  Iris-setosa\n",
       "4            5.0           3.6            1.4           0.2  Iris-setosa\n",
       "5            5.4           3.9            1.7           0.4  Iris-setosa\n",
       "6            4.6           3.4            1.4           0.3  Iris-setosa\n",
       "7            5.0           3.4            1.5           0.2  Iris-setosa\n",
       "8            4.4           2.9            1.4           0.2  Iris-setosa\n",
       "9            4.9           3.1            1.5           0.1  Iris-setosa"
      ]
     },
     "execution_count": 8,
     "metadata": {},
     "output_type": "execute_result"
    }
   ],
   "source": [
    "iris_df.head(10)"
   ]
  },
  {
   "cell_type": "code",
   "execution_count": 10,
   "id": "24760d5f",
   "metadata": {},
   "outputs": [],
   "source": [
    "\n",
    "# Encode target variable\n",
    "le = LabelEncoder()\n",
    "iris_df['Species'] = le.fit_transform(iris_df['Species'])\n",
    "iris_df['Binary_Species'] = (iris_df['Species'] == 0).astype(int)\n",
    "\n",
    "# Select features and target\n",
    "X = iris_df.drop(['Species', 'Binary_Species'], axis=1)\n",
    "y = iris_df['Binary_Species']\n",
    "\n",
    "# Split dataset\n",
    "X_train, X_test, y_train, y_test = train_test_split(X, y, test_size=0.2, random_state=42)\n"
   ]
  },
  {
   "cell_type": "markdown",
   "id": "3b0ba71a",
   "metadata": {},
   "source": [
    "## Model Training"
   ]
  },
  {
   "cell_type": "code",
   "execution_count": 11,
   "id": "e4e369ac",
   "metadata": {},
   "outputs": [
    {
     "data": {
      "text/plain": [
       "Perceptron(eta0=0.1, random_state=42)"
      ]
     },
     "execution_count": 11,
     "metadata": {},
     "output_type": "execute_result"
    }
   ],
   "source": [
    "\n",
    "from sklearn.linear_model import Perceptron\n",
    "\n",
    "# Initialize and train Perceptron\n",
    "perceptron = Perceptron(max_iter=1000, tol=1e-3, eta0=0.1, random_state=42)\n",
    "perceptron.fit(X_train, y_train)\n"
   ]
  },
  {
   "cell_type": "markdown",
   "id": "d94c0911",
   "metadata": {},
   "source": [
    "## Model Evaluation"
   ]
  },
  {
   "cell_type": "code",
   "execution_count": 5,
   "id": "00c2b597",
   "metadata": {},
   "outputs": [
    {
     "data": {
      "text/plain": [
       "(1.0,\n",
       " 1.0,\n",
       " '              precision    recall  f1-score   support\\n\\n           0       1.00      1.00      1.00        20\\n           1       1.00      1.00      1.00        10\\n\\n    accuracy                           1.00        30\\n   macro avg       1.00      1.00      1.00        30\\nweighted avg       1.00      1.00      1.00        30\\n')"
      ]
     },
     "execution_count": 5,
     "metadata": {},
     "output_type": "execute_result"
    }
   ],
   "source": [
    "\n",
    "from sklearn.metrics import accuracy_score, classification_report\n",
    "\n",
    "# Predict and evaluate\n",
    "y_train_pred = perceptron.predict(X_train)\n",
    "y_test_pred = perceptron.predict(X_test)\n",
    "train_accuracy = accuracy_score(y_train, y_train_pred)\n",
    "test_accuracy = accuracy_score(y_test, y_test_pred)\n",
    "test_classification_report = classification_report(y_test, y_test_pred)\n",
    "\n",
    "train_accuracy, test_accuracy, test_classification_report\n"
   ]
  },
  {
   "cell_type": "markdown",
   "id": "53beec4d",
   "metadata": {},
   "source": [
    "## Conclusion\n",
    "This notebook provided a complete workflow for applying a Perceptron model to the Iris dataset, achieving perfect classification accuracy."
   ]
  },
  {
   "cell_type": "markdown",
   "id": "d679a78a",
   "metadata": {},
   "source": [
    "## Decision Boundary Visualization"
   ]
  },
  {
   "cell_type": "code",
   "execution_count": 20,
   "id": "1cb5fabc",
   "metadata": {},
   "outputs": [
    {
     "data": {
      "image/png": "[encoded data removed]",
      "text/plain": [
       "<Figure size 720x432 with 1 Axes>"
      ]
     },
     "metadata": {
      "needs_background": "light"
     },
     "output_type": "display_data"
    }
   ],
   "source": [
    "\n",
    "import numpy as np\n",
    "import matplotlib.pyplot as plt\n",
    "from mlxtend.plotting import plot_decision_regions\n",
    "\n",
    "# Assuming X_train and y_train are already defined and appropriate for this model training\n",
    "# Training the Perceptron model on the first two features for visualization\n",
    "perceptron_vis = Perceptron(max_iter=1000, tol=1e-3, eta0=0.1, random_state=42)\n",
    "perceptron_vis.fit(X_train.iloc[:, :2].values, y_train)\n",
    "\n",
    "# Plotting the decision boundary\n",
    "plt.figure(figsize=(10, 6))\n",
    "plot_decision_regions(X_train.iloc[:, :2].values, y_train.values, clf=perceptron_vis, legend=2)\n",
    "plt.xlabel(X_train.columns[0])\n",
    "plt.ylabel(X_train.columns[1])\n",
    "plt.title('Decision Boundary for Iris Classification')\n",
    "plt.show()"
   ]
  },
  {
   "cell_type": "markdown",
   "id": "c156ef05",
   "metadata": {},
   "source": [
    "The decision boundary linearly separates the two classes, indicating that the Perceptron model is using a linear function to differentiate between the classes based on Sepal Length and Sepal Width.\n",
    "\n",
    "The model appears to classify most of the data points correctly, with each class predominantly lying within its respective region. However, the effectiveness and accuracy of the model can be further assessed through metrics like accuracy, precision, and recall, which are not depicted in this plot but are crucial for evaluating classifier performance."
   ]
  },
  {
   "cell_type": "markdown",
   "id": "b717741d",
   "metadata": {},
   "source": [
    "## Accuracy Over Iterations"
   ]
  },
  {
   "cell_type": "code",
   "execution_count": 17,
   "id": "3aef761d",
   "metadata": {},
   "outputs": [
    {
     "data": {
      "image/png": "[encoded data removed]",
      "text/plain": [
       "<Figure size 720x432 with 1 Axes>"
      ]
     },
     "metadata": {
      "needs_background": "light"
     },
     "output_type": "display_data"
    }
   ],
   "source": [
    "\n",
    "# Since the Perceptron in sklearn does not store accuracy over iterations, we'll use a custom implementation or simulate a similar plot\n",
    "\n",
    "# Custom function to simulate accuracy over iterations\n",
    "def perceptron_fit(X, y, eta, n_iter):\n",
    "    w_ = np.zeros(1 + X.shape[1])\n",
    "    accuracy = []\n",
    "    \n",
    "    for _ in range(n_iter):\n",
    "        errors = 0\n",
    "        for xi, target in zip(X, y):\n",
    "            update = eta * (target - np.where(np.dot(xi, w_[1:]) + w_[0] > 0, 1, 0))\n",
    "            w_[1:] += update * xi\n",
    "            w_[0] += update\n",
    "            errors += int(update != 0.0)\n",
    "        acc = 1 - errors / len(y)\n",
    "        accuracy.append(acc)\n",
    "    \n",
    "    return accuracy\n",
    "\n",
    "# Calculate accuracy over iterations\n",
    "accuracy_over_time = perceptron_fit(X_train.iloc[:, :2].values, y_train.values, 0.1, 40)\n",
    "\n",
    "# Plotting accuracy over time\n",
    "plt.figure(figsize=(10, 6))\n",
    "plt.plot(range(1, 41), accuracy_over_time, marker='o')\n",
    "plt.xlabel('Iterations')\n",
    "plt.ylabel('Accuracy')\n",
    "plt.title('Perceptron Accuracy Over Iterations')\n",
    "plt.grid(True)\n",
    "plt.show()\n"
   ]
  },
  {
   "cell_type": "markdown",
   "id": "e072e631",
   "metadata": {},
   "source": [
    "The plot suggests that the Perceptron model converges fairly quickly for this particular dataset, meaning that running the training for many iterations beyond a certain point might not be necessary and could save computational resources. The model also observes the accuracy plateau might help in tuning hyperparameters such as the learning rate or the number of epochs to prevent overfitting and optimize training time."
   ]
  },
  {
   "cell_type": "markdown",
   "id": "1321f791",
   "metadata": {},
   "source": [
    "## Conclusion\n",
    "The Perceptron model, a foundational piece of machine learning, has demonstrated considerable effectiveness in classifying the Iris dataset based on its sepal width and sepal length features. The decision boundary plot revealed a clear linear separation between the two classes, indicating that the model was able to discern the distinguishing features with high accuracy. This was further validated by the accuracy over iterations plot, which showed a rapid ascent to high accuracy within the first few epochs of training, ultimately stabilizing at around 95%."
   ]
  }
 ],
 "metadata": {
  "kernelspec": {
   "display_name": "base",
   "language": "python",
   "name": "python3"
  },
  "language_info": {
   "codemirror_mode": {
    "name": "ipython",
    "version": 3
   },
   "file_extension": ".py",
   "mimetype": "text/x-python",
   "name": "python",
   "nbconvert_exporter": "python",
   "pygments_lexer": "ipython3",
   "version": "3.8.8"
  }
 },
 "nbformat": 4,
 "nbformat_minor": 5
}
