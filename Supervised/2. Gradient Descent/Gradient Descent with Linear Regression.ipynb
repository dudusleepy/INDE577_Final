{
 "cells": [
  {
   "cell_type": "markdown",
   "id": "e8b1bbec",
   "metadata": {},
   "source": [
    "# Gradient Descent with Linear Regression\n",
    "\n",
    "## Introduction\n",
    "**Gradient Descent** is a popular optimization technique in machine learning, which is used to minimize a cost function. It's widely used for training a wide variety of models, including linear regression. Gradient descent involves iteratively adjusting the parameters of the model to reduce the cost function, which in the case of linear regression is typically the sum of the squared differences between the observed values and the values predicted by the model.\n",
    "\n",
    "## Linear Regression\n",
    "Linear regression is a statistical method that attempts to model the relationship between a scalar dependent variable `y` and one or more explanatory variables (or independent variables) `x`. The case of one explanatory variable is called simple linear regression.\n",
    "\n",
    "## Algorithm\n",
    "Here's how gradient descent can be applied to find the parameters for linear regression:\n",
    "\n",
    "1. **Model Definition**:\n",
    "   Define the model function as `y = mx + b` where:\n",
    "   - `m` is the slope of the line.\n",
    "   - `b` is the y-intercept.\n",
    "\n",
    "2. **Cost Function**:\n",
    "   Use the Residual Sum of Squares (RSS) as the cost function:\n",
    "   RSS(m, b) = Σ(yi - (mxi + b))^2\n"
   ]
  },
  {
   "cell_type": "markdown",
   "id": "4515d284",
   "metadata": {},
   "source": [
    "where `yi` are the actual values and `mxi + b` are the predicted values from the model.\n",
    "\n",
    "3. **Gradient Calculation**:\n",
    "Calculate the gradient of the cost function with respect to each parameter (m and b):\n",
    "- Partial derivative with respect to `m`: `d/dm = -2Σxi(yi - (mxi + b))`\n",
    "- Partial derivative with respect to `b`: `d/db = -2Σ(yi - (mxi + b))`\n",
    "\n",
    "4. **Parameter Update**:\n",
    "Update the parameters using the gradients computed from the cost function:\n",
    "- `m = m - alpha * d/dm`\n",
    "- `b = b - alpha * d/db`\n",
    "Where `alpha` is the learning rate, a small number that determines the step size during the minimization process.\n",
    "\n",
    "5. **Iteration**:\n",
    "Repeat the process until the cost function converges to a minimum or a predefined number of iterations is reached.\n",
    "\n",
    "\n",
    "Gradient descent is an effective approach to find the minimum of a cost function, especially in cases where there are a large number of parameters or non-analytical solutions are required. It's particularly useful in machine learning for optimizing model parameters, making it a fundamental skill for data scientists and machine learning engineers.\n"
   ]
  },
  {
   "cell_type": "code",
   "execution_count": 28,
   "id": "3231f427",
   "metadata": {},
   "outputs": [],
   "source": [
    "import matplotlib.pyplot as plt\n",
    "import numpy as np\n",
    "import seaborn as sns\n",
    "import pandas as pd\n",
    "from sklearn.model_selection import train_test_split\n",
    "from sklearn.linear_model import SGDRegressor\n",
    "from sklearn.metrics import mean_squared_error\n",
    "from sklearn.preprocessing import StandardScaler\n",
    "\n",
    "# Load the housing dataset\n",
    "data_path = '/Users/kevinwang/Downloads/Housing.csv'\n",
    "housing_data = pd.read_csv(data_path)"
   ]
  },
  {
   "cell_type": "code",
   "execution_count": 29,
   "id": "a0882936",
   "metadata": {},
   "outputs": [
    {
     "data": {
      "text/html": [
       "<div>\n",
       "<style scoped>\n",
       "    .dataframe tbody tr th:only-of-type {\n",
       "        vertical-align: middle;\n",
       "    }\n",
       "\n",
       "    .dataframe tbody tr th {\n",
       "        vertical-align: top;\n",
       "    }\n",
       "\n",
       "    .dataframe thead th {\n",
       "        text-align: right;\n",
       "    }\n",
       "</style>\n",
       "<table border=\"1\" class=\"dataframe\">\n",
       "  <thead>\n",
       "    <tr style=\"text-align: right;\">\n",
       "      <th></th>\n",
       "      <th>price</th>\n",
       "      <th>area</th>\n",
       "      <th>bedrooms</th>\n",
       "      <th>bathrooms</th>\n",
       "      <th>stories</th>\n",
       "      <th>mainroad</th>\n",
       "      <th>guestroom</th>\n",
       "      <th>basement</th>\n",
       "      <th>hotwaterheating</th>\n",
       "      <th>airconditioning</th>\n",
       "      <th>parking</th>\n",
       "      <th>prefarea</th>\n",
       "      <th>furnishingstatus</th>\n",
       "    </tr>\n",
       "  </thead>\n",
       "  <tbody>\n",
       "    <tr>\n",
       "      <th>0</th>\n",
       "      <td>13300000</td>\n",
       "      <td>7420</td>\n",
       "      <td>4</td>\n",
       "      <td>2</td>\n",
       "      <td>3</td>\n",
       "      <td>yes</td>\n",
       "      <td>no</td>\n",
       "      <td>no</td>\n",
       "      <td>no</td>\n",
       "      <td>yes</td>\n",
       "      <td>2</td>\n",
       "      <td>yes</td>\n",
       "      <td>furnished</td>\n",
       "    </tr>\n",
       "    <tr>\n",
       "      <th>1</th>\n",
       "      <td>12250000</td>\n",
       "      <td>8960</td>\n",
       "      <td>4</td>\n",
       "      <td>4</td>\n",
       "      <td>4</td>\n",
       "      <td>yes</td>\n",
       "      <td>no</td>\n",
       "      <td>no</td>\n",
       "      <td>no</td>\n",
       "      <td>yes</td>\n",
       "      <td>3</td>\n",
       "      <td>no</td>\n",
       "      <td>furnished</td>\n",
       "    </tr>\n",
       "    <tr>\n",
       "      <th>2</th>\n",
       "      <td>12250000</td>\n",
       "      <td>9960</td>\n",
       "      <td>3</td>\n",
       "      <td>2</td>\n",
       "      <td>2</td>\n",
       "      <td>yes</td>\n",
       "      <td>no</td>\n",
       "      <td>yes</td>\n",
       "      <td>no</td>\n",
       "      <td>no</td>\n",
       "      <td>2</td>\n",
       "      <td>yes</td>\n",
       "      <td>semi-furnished</td>\n",
       "    </tr>\n",
       "    <tr>\n",
       "      <th>3</th>\n",
       "      <td>12215000</td>\n",
       "      <td>7500</td>\n",
       "      <td>4</td>\n",
       "      <td>2</td>\n",
       "      <td>2</td>\n",
       "      <td>yes</td>\n",
       "      <td>no</td>\n",
       "      <td>yes</td>\n",
       "      <td>no</td>\n",
       "      <td>yes</td>\n",
       "      <td>3</td>\n",
       "      <td>yes</td>\n",
       "      <td>furnished</td>\n",
       "    </tr>\n",
       "    <tr>\n",
       "      <th>4</th>\n",
       "      <td>11410000</td>\n",
       "      <td>7420</td>\n",
       "      <td>4</td>\n",
       "      <td>1</td>\n",
       "      <td>2</td>\n",
       "      <td>yes</td>\n",
       "      <td>yes</td>\n",
       "      <td>yes</td>\n",
       "      <td>no</td>\n",
       "      <td>yes</td>\n",
       "      <td>2</td>\n",
       "      <td>no</td>\n",
       "      <td>furnished</td>\n",
       "    </tr>\n",
       "  </tbody>\n",
       "</table>\n",
       "</div>"
      ],
      "text/plain": [
       "      price  area  bedrooms  bathrooms  stories mainroad guestroom basement  \\\n",
       "0  13300000  7420         4          2        3      yes        no       no   \n",
       "1  12250000  8960         4          4        4      yes        no       no   \n",
       "2  12250000  9960         3          2        2      yes        no      yes   \n",
       "3  12215000  7500         4          2        2      yes        no      yes   \n",
       "4  11410000  7420         4          1        2      yes       yes      yes   \n",
       "\n",
       "  hotwaterheating airconditioning  parking prefarea furnishingstatus  \n",
       "0              no             yes        2      yes        furnished  \n",
       "1              no             yes        3       no        furnished  \n",
       "2              no              no        2      yes   semi-furnished  \n",
       "3              no             yes        3      yes        furnished  \n",
       "4              no             yes        2       no        furnished  "
      ]
     },
     "execution_count": 29,
     "metadata": {},
     "output_type": "execute_result"
    }
   ],
   "source": [
    "housing_data.head()"
   ]
  },
  {
   "cell_type": "code",
   "execution_count": 30,
   "id": "b8d09514",
   "metadata": {},
   "outputs": [],
   "source": [
    "# Selecting the predictor and the target variable\n",
    "X = housing_data['area']\n",
    "y = housing_data['price']\n",
    "\n",
    "# Feature Scaling - Standardization\n",
    "X_scaled = (X - np.mean(X)) / np.std(X)\n",
    "\n",
    "# Initializing parameters for Gradient Descent\n",
    "theta0 = 0  # Intercept\n",
    "theta1 = 0  # Slope\n",
    "alpha = 0.01  # Learning Rate\n",
    "iterations = 1000  # Number of iterations to perform gradient descent\n",
    "\n",
    "# Function to compute the cost\n",
    "def compute_cost(X, y, theta0, theta1):\n",
    "    m = len(y)\n",
    "    predicted = theta0 + theta1 * X\n",
    "    cost = (1/(2*m)) * np.sum((predicted - y)**2)\n",
    "    return cost\n",
    "\n",
    "# Function to perform gradient descent\n",
    "def gradient_descent(X, y, theta0, theta1, alpha, iterations):\n",
    "    m = len(y)\n",
    "    cost_history = np.zeros(iterations)\n",
    "    \n",
    "    for i in range(iterations):\n",
    "        predictions = theta0 + theta1 * X\n",
    "        theta0 -= alpha * (1/m) * np.sum(predictions - y)\n",
    "        theta1 -= alpha * (1/m) * np.sum((predictions - y) * X)\n",
    "        cost_history[i] = compute_cost(X, y, theta0, theta1)\n",
    "        \n",
    "    return theta0, theta1, cost_history\n"
   ]
  },
  {
   "cell_type": "markdown",
   "id": "2908ade3",
   "metadata": {},
   "source": [
    "## Visualization"
   ]
  },
  {
   "cell_type": "code",
   "execution_count": 31,
   "id": "dd124d23",
   "metadata": {},
   "outputs": [
    {
     "data": {
      "image/png": "[encoded data removed]",
      "text/plain": [
       "<Figure size 720x432 with 1 Axes>"
      ]
     },
     "metadata": {
      "needs_background": "light"
     },
     "output_type": "display_data"
    },
    {
     "data": {
      "text/plain": [
       "(4766523.46205873, 1001587.2342361462)"
      ]
     },
     "execution_count": 31,
     "metadata": {},
     "output_type": "execute_result"
    }
   ],
   "source": [
    "# Perform gradient descent\n",
    "theta0_final, theta1_final, cost_history = gradient_descent(X_scaled, y, theta0, theta1, alpha, iterations)\n",
    "\n",
    "# Plotting the cost history to see how it changes over iterations\n",
    "plt.figure(figsize=(10, 6))\n",
    "plt.plot(range(1, iterations + 1), cost_history, color='blue')\n",
    "plt.title('Cost Reduction over Iterations')\n",
    "plt.xlabel('Iteration')\n",
    "plt.ylabel('Cost')\n",
    "plt.grid(True)\n",
    "plt.show()\n",
    "\n",
    "theta0_final, theta1_final\n",
    "     "
   ]
  },
  {
   "cell_type": "markdown",
   "id": "00075c5c",
   "metadata": {},
   "source": [
    "### Key Observations:\n",
    "- **Initial Decrease**: The MSE starts at a very high value (around 3.25 x 10^12) and experiences a sharp decrease within the first few iterations. This rapid drop suggests that the initial parameter estimates were far from optimal, and early adjustments had a substantial impact on reducing the error.\n",
    "- **Stabilization**: After the initial sharp drop, the MSE quickly stabilizes and remains relatively constant throughout the rest of the iterations. The flat line at around 1.5 x 10^12 from iteration 20 onwards indicates that further adjustments to the model parameters only yield marginal improvements in reducing the error.\n",
    "- **Convergence**: The model appears to have reached convergence by around the 20th iteration, as indicated by the steady MSE value. This suggests that running more iterations beyond this point might not be necessary or effective, as the model has already achieved its optimal performance given the current configuration and data."
   ]
  },
  {
   "cell_type": "code",
   "execution_count": 32,
   "id": "cec4b699",
   "metadata": {},
   "outputs": [
    {
     "data": {
      "image/png": "[encoded data removed]",
      "text/plain": [
       "<Figure size 720x432 with 1 Axes>"
      ]
     },
     "metadata": {
      "needs_background": "light"
     },
     "output_type": "display_data"
    }
   ],
   "source": [
    "plt.figure(figsize=(10, 6))\n",
    "plt.scatter(X_scaled, y, color='red', label='Data points')\n",
    "plt.plot(X_scaled, theta0_final + theta1_final * X_scaled, color='blue', label='Regression Line')\n",
    "plt.title('Linear Regression Fit')\n",
    "plt.xlabel('Scaled Area')\n",
    "plt.ylabel('Price')\n",
    "plt.legend()\n",
    "plt.grid(True)\n",
    "plt.show()"
   ]
  },
  {
   "cell_type": "markdown",
   "id": "a936f374",
   "metadata": {},
   "source": [
    "Here's the plot showing the linear regression line fitted to the scaled area versus price data points. The blue line represents the model's prediction, and the red dots are the actual data points.\n",
    "\n",
    "The model appears to capture a general trend in the data, indicating that as the area increases, the price also tends to increase. If you have more features or specific predictions in mind, we can expand this model or tweak the parameters further to enhance its accuracy or explore more complex relationships."
   ]
  },
  {
   "cell_type": "markdown",
   "id": "cef12f7c",
   "metadata": {},
   "source": [
    "### Conclusion:\n",
    "This visualization demonstrates the effectiveness of gradient descent in optimizing the model's parameters quickly. However, the relatively high stable MSE suggests there might be limitations in the model's ability to fit the data, possibly due to non-linear relationships not captured by the linear model, or other factors such as outliers or insufficient feature scaling."
   ]
  }
 ],
 "metadata": {
  "kernelspec": {
   "display_name": "Python 3",
   "language": "python",
   "name": "python3"
  },
  "language_info": {
   "codemirror_mode": {
    "name": "ipython",
    "version": 3
   },
   "file_extension": ".py",
   "mimetype": "text/x-python",
   "name": "python",
   "nbconvert_exporter": "python",
   "pygments_lexer": "ipython3",
   "version": "3.8.8"
  }
 },
 "nbformat": 4,
 "nbformat_minor": 5
}
